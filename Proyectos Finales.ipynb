{
 "cells": [
  {
   "cell_type": "markdown",
   "metadata": {},
   "source": [
    "## Rafael Larrazolo\n",
    "### Python con aplicaciones en el ámbito científico"
   ]
  },
  {
   "cell_type": "markdown",
   "metadata": {},
   "source": [
    "## Proyecto 1\n",
    "### Compresor de archivos"
   ]
  },
  {
   "cell_type": "code",
   "execution_count": 1,
   "metadata": {},
   "outputs": [],
   "source": [
    "import os\n",
    "import zipfile\n",
    "from zipfile import ZipFile"
   ]
  },
  {
   "cell_type": "code",
   "execution_count": 9,
   "metadata": {},
   "outputs": [
    {
     "name": "stdout",
     "output_type": "stream",
     "text": [
      "¿Cuál es la ruta a comprimir los archivos?  /home/rafael/Documentos/BBVA_seguro\n"
     ]
    }
   ],
   "source": [
    "#ruta de la carpeta a la que quiero comprimir: /home/rafael/Documentos/BBVA_seguro\n",
    "input_ruta = input(\"¿Cuál es la ruta a comprimir los archivos?  \")"
   ]
  },
  {
   "cell_type": "code",
   "execution_count": 13,
   "metadata": {},
   "outputs": [
    {
     "name": "stdout",
     "output_type": "stream",
     "text": [
      "Archivos que serán comprimidos:\n",
      "\n",
      "/home/rafael/Documentos/BBVA_seguro/Terapia3/VAMG6304231H1_3699_LACR900225E25.pdf\n",
      "/home/rafael/Documentos/BBVA_seguro/Terapia3/VAMG6304231H1_3699_LACR900225E25.xml\n",
      "/home/rafael/Documentos/BBVA_seguro/Terapia6/reembolso.pdf\n",
      "/home/rafael/Documentos/BBVA_seguro/Terapia6/VAMG6304231H1_3745_LACR900225E25.xml\n",
      "/home/rafael/Documentos/BBVA_seguro/Terapia6/VAMG6304231H1_3745_LACR900225E25.pdf\n",
      "/home/rafael/Documentos/BBVA_seguro/Terapia1/VAMG6304231H1_3678_LACR900225E25.xml\n",
      "/home/rafael/Documentos/BBVA_seguro/Terapia1/VAMG6304231H1_3678_LACR900225E25.pdf\n",
      "/home/rafael/Documentos/BBVA_seguro/Terapia2/VAMG6304231H1_3689_LACR900225E25.pdf\n",
      "/home/rafael/Documentos/BBVA_seguro/Terapia2/VAMG6304231H1_3689_LACR900225E25.xml\n",
      "/home/rafael/Documentos/BBVA_seguro/Terapia2/reembolso.pdf\n",
      "/home/rafael/Documentos/BBVA_seguro/Terapia4/VAMG6304231H1_3716_LACR900225E25.xml\n",
      "/home/rafael/Documentos/BBVA_seguro/Terapia4/reembolso.pdf\n",
      "/home/rafael/Documentos/BBVA_seguro/Terapia4/VAMG6304231H1_3716_LACR900225E25.pdf\n",
      "/home/rafael/Documentos/BBVA_seguro/Terapia5/VAMG6304231H1_3726_LACR900225E25.pdf\n",
      "/home/rafael/Documentos/BBVA_seguro/Terapia5/VAMG6304231H1_3726_LACR900225E25.xml\n",
      "/home/rafael/Documentos/BBVA_seguro/Finiquito y Reembolso.pdf\n",
      "/home/rafael/Documentos/BBVA_seguro/Credencial GMM BASICA TITULAR.pdf\n",
      "/home/rafael/Documentos/BBVA_seguro/SP GMM BASICA.pdf\n",
      "/home/rafael/Documentos/BBVA_seguro/SP GMM CONTINUIDAD.pdf\n",
      "/home/rafael/Documentos/BBVA_seguro/Credencial GMM CONTINUIDAD TITULAR.pdf\n"
     ]
    }
   ],
   "source": [
    "direcciones = []\n",
    "for root, dirs, files in os.walk(input_ruta, topdown=False):\n",
    "    for name in files:\n",
    "        direcciones.append(os.path.join(root, name))\n",
    "        \n",
    "print(\"Archivos que serán comprimidos:\\n\")        \n",
    "for d in direcciones:\n",
    "    print(d)"
   ]
  },
  {
   "cell_type": "code",
   "execution_count": 6,
   "metadata": {},
   "outputs": [
    {
     "name": "stdout",
     "output_type": "stream",
     "text": [
      "Número total de archivos a comprimir: 20\n"
     ]
    }
   ],
   "source": [
    "print(\"Número total de archivos a comprimir: {}\".format(len(direcciones)))"
   ]
  },
  {
   "cell_type": "code",
   "execution_count": 14,
   "metadata": {},
   "outputs": [],
   "source": [
    "with ZipFile('mi_carpeta_comprimida.zip', 'w') as myzip:\n",
    "    for d in direcciones:\n",
    "        myzip.write(d)"
   ]
  },
  {
   "cell_type": "markdown",
   "metadata": {},
   "source": [
    "## Proyecto 2\n",
    "### Buscador de archivos"
   ]
  },
  {
   "cell_type": "code",
   "execution_count": 100,
   "metadata": {},
   "outputs": [],
   "source": [
    "import os\n",
    "import re\n",
    "import pandas as pd"
   ]
  },
  {
   "cell_type": "code",
   "execution_count": 17,
   "metadata": {},
   "outputs": [
    {
     "name": "stdout",
     "output_type": "stream",
     "text": [
      "Ingresa la ruta raíz: /home/rafael/Documentos/BBVA_seguro\n"
     ]
    }
   ],
   "source": [
    "input_ruta = input(\"Ingresa la ruta raíz: \")"
   ]
  },
  {
   "cell_type": "code",
   "execution_count": 121,
   "metadata": {},
   "outputs": [
    {
     "name": "stdout",
     "output_type": "stream",
     "text": [
      "¿Cuál es la palabra a buscar? mujer\n"
     ]
    }
   ],
   "source": [
    "input_palabra = input(\"¿Cuál es la palabra a buscar? \")"
   ]
  },
  {
   "cell_type": "code",
   "execution_count": 122,
   "metadata": {},
   "outputs": [
    {
     "name": "stdout",
     "output_type": "stream",
     "text": [
      "Archivos en formato txt encontrados en la ruta indicada: \n",
      "marianela.txt\n",
      "fortuna.txt\n"
     ]
    }
   ],
   "source": [
    "archivos = []\n",
    "nombres = []\n",
    "print('Archivos en formato txt encontrados en la ruta indicada: ')\n",
    "for root, dirs, files in os.walk(input_ruta, topdown=False):\n",
    "    for name in files:\n",
    "        if name.find('.txt') > 0:\n",
    "            print(name)\n",
    "            nombres.append(name)\n",
    "            archivos.append(os.path.join(root, name))"
   ]
  },
  {
   "cell_type": "code",
   "execution_count": 123,
   "metadata": {},
   "outputs": [],
   "source": [
    "def index(word):\n",
    "    if base_words.count(word.lower()) > 0:\n",
    "        return base_words.index(word.lower()) + 1\n",
    "    return 0"
   ]
  },
  {
   "cell_type": "code",
   "execution_count": 124,
   "metadata": {},
   "outputs": [
    {
     "name": "stdout",
     "output_type": "stream",
     "text": [
      "Tamaño del corpus de marianela.txt: 313258\n",
      "Tamaño del corpus de fortuna.txt: 146764\n"
     ]
    }
   ],
   "source": [
    "indices = []\n",
    "for texto in archivos:\n",
    "    corpus = open(texto).read()\n",
    "    print(\"Tamaño del corpus de {}: {}\".format(os.path.basename(texto) , len(corpus)))\n",
    "\n",
    "    words = []\n",
    "    for m in re.finditer(r\"[a-zA-Záéíóúñ]+\", corpus):\n",
    "        word = m.group(0)\n",
    "        words.append(word.lower())\n",
    "\n",
    "    base_words = sorted(list(set(words)))\n",
    "\n",
    "    indices.append(index(input_palabra))"
   ]
  },
  {
   "cell_type": "code",
   "execution_count": 127,
   "metadata": {},
   "outputs": [],
   "source": [
    "def escribe_archivo(archivos, indices):\n",
    "    if sum(indices) > 0:\n",
    "        f = open(\"mi_lista.txt\",\"w+\")\n",
    "        f.write(\"Archivo \\t Indice donde se localiza la palabra {} \\n\".format(input_palabra))\n",
    "        for i in range(0,len(indices)):\n",
    "            if indices[i] > 0:\n",
    "                f.write(archivos[i] + \"\\t\" + str(indices[i]) + \"\\n\")\n",
    "        f.close()"
   ]
  },
  {
   "cell_type": "code",
   "execution_count": 128,
   "metadata": {},
   "outputs": [],
   "source": [
    "escribe_archivo(nombres, indices)"
   ]
  },
  {
   "cell_type": "code",
   "execution_count": 129,
   "metadata": {},
   "outputs": [
    {
     "name": "stdout",
     "output_type": "stream",
     "text": [
      "        Archivo    Indice donde se localiza la palabra mujer \n",
      "0  marianela.txt                                         5496\n",
      "1    fortuna.txt                                         3205\n"
     ]
    }
   ],
   "source": [
    "df = pd.read_csv(\"mi_lista.txt\", sep='\\t')\n",
    "\n",
    "print(df.head())\n"
   ]
  },
  {
   "cell_type": "code",
   "execution_count": null,
   "metadata": {},
   "outputs": [],
   "source": []
  }
 ],
 "metadata": {
  "kernelspec": {
   "display_name": "Python 3",
   "language": "python",
   "name": "python3"
  },
  "language_info": {
   "codemirror_mode": {
    "name": "ipython",
    "version": 3
   },
   "file_extension": ".py",
   "mimetype": "text/x-python",
   "name": "python",
   "nbconvert_exporter": "python",
   "pygments_lexer": "ipython3",
   "version": "3.6.1"
  }
 },
 "nbformat": 4,
 "nbformat_minor": 2
}
