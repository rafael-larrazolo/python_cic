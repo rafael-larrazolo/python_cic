{
 "cells": [
  {
   "cell_type": "code",
   "execution_count": 2,
   "metadata": {},
   "outputs": [],
   "source": [
    "import os"
   ]
  },
  {
   "cell_type": "code",
   "execution_count": 3,
   "metadata": {},
   "outputs": [
    {
     "name": "stdout",
     "output_type": "stream",
     "text": [
      "¿Cuál es la ruta a comprimir los archivos?C:\\Users\\mb82891\\Documents\\Personal\n"
     ]
    }
   ],
   "source": [
    "input_ruta = input(\"¿Cuál es la ruta a comprimir los archivos?\")"
   ]
  },
  {
   "cell_type": "code",
   "execution_count": null,
   "metadata": {},
   "outputs": [],
   "source": [
    "input_palabra = input(\"Ingresa la palabra a buscar\")"
   ]
  },
  {
   "cell_type": "code",
   "execution_count": 16,
   "metadata": {},
   "outputs": [
    {
     "name": "stdout",
     "output_type": "stream",
     "text": [
      "Nuevo documento de texto.txt\n"
     ]
    }
   ],
   "source": [
    "archivos = []\n",
    "for root, dirs, files in os.walk(input_ruta, topdown=False):\n",
    "    for name in files:\n",
    "        #print(os.path.join(root, name))\n",
    "        #direcciones.append(os.path.join(root, name))\n",
    "        if name.find('.txt') > 0:\n",
    "            print(name)\n",
    "            archivos.append(os.path.join(root, name))\n",
    "            "
   ]
  },
  {
   "cell_type": "code",
   "execution_count": 17,
   "metadata": {},
   "outputs": [
    {
     "data": {
      "text/plain": [
       "['C:\\\\Users\\\\mb82891\\\\Documents\\\\Personal\\\\Nuevo documento de texto.txt']"
      ]
     },
     "execution_count": 17,
     "metadata": {},
     "output_type": "execute_result"
    }
   ],
   "source": [
    "archivos"
   ]
  },
  {
   "cell_type": "code",
   "execution_count": 19,
   "metadata": {},
   "outputs": [
    {
     "data": {
      "text/plain": [
       "'C:\\\\Users\\\\mb82891\\\\Documents\\\\Personal\\\\Nuevo documento de texto.txt'"
      ]
     },
     "execution_count": 19,
     "metadata": {},
     "output_type": "execute_result"
    }
   ],
   "source": [
    "archivos[0]"
   ]
  }
 ],
 "metadata": {
  "kernelspec": {
   "display_name": "Python [conda env:Py36]",
   "language": "python",
   "name": "conda-env-Py36-py"
  },
  "language_info": {
   "codemirror_mode": {
    "name": "ipython",
    "version": 3
   },
   "file_extension": ".py",
   "mimetype": "text/x-python",
   "name": "python",
   "nbconvert_exporter": "python",
   "pygments_lexer": "ipython3",
   "version": "3.6.5"
  }
 },
 "nbformat": 4,
 "nbformat_minor": 2
}
