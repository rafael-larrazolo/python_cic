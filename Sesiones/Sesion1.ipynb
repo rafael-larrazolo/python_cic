{
 "cells": [
  {
   "cell_type": "markdown",
   "metadata": {},
   "source": [
    "# Programación Python con Aplicaciones al Ámbito Científico"
   ]
  },
  {
   "cell_type": "markdown",
   "metadata": {},
   "source": [
    "Profesor: Alan Badillo Salas \n",
    "\n",
    "badillo.soft@hotmail.com\n",
    "\n",
    "blog (https://medium.com/un-enfoque-cient%C3%ADfico-de-python)\n",
    "\n",
    "repl (https://repl.it/@badillosoft)"
   ]
  },
  {
   "cell_type": "markdown",
   "metadata": {},
   "source": [
    "## Sesión 1"
   ]
  },
  {
   "cell_type": "markdown",
   "metadata": {},
   "source": [
    "IPython: Dirección sentencia a sentencia\n",
    "Python: A través de un archivo que ejecuta sentencia a sentencia\n",
    "\n",
    "Ejemplos de sentencias:\n",
    "+ Importar un módulo\n",
    "+ Asignar/declarar variable\n",
    "+ Declarar método, función o clase\n",
    "+ Expresiones matemáticas, lógica-aritmética\n",
    "+ Estructurar un bloque if/while/for\n",
    "+ Llamado de una función\n"
   ]
  },
  {
   "cell_type": "markdown",
   "metadata": {},
   "source": [
    "### Ejemplo 1:"
   ]
  },
  {
   "cell_type": "code",
   "execution_count": 3,
   "metadata": {},
   "outputs": [
    {
     "name": "stdout",
     "output_type": "stream",
     "text": [
      "377\n"
     ]
    }
   ],
   "source": [
    "a = 123\n",
    "b = 254\n",
    "c = a + b \n",
    "print(c)"
   ]
  },
  {
   "cell_type": "markdown",
   "metadata": {},
   "source": [
    "### Ejemplo 2:"
   ]
  },
  {
   "cell_type": "code",
   "execution_count": 5,
   "metadata": {},
   "outputs": [
    {
     "ename": "NameError",
     "evalue": "name 'raw_input' is not defined",
     "output_type": "error",
     "traceback": [
      "\u001b[1;31m---------------------------------------------------------------------------\u001b[0m",
      "\u001b[1;31mNameError\u001b[0m                                 Traceback (most recent call last)",
      "\u001b[1;32m<ipython-input-5-a2901b8fd248>\u001b[0m in \u001b[0;36m<module>\u001b[1;34m()\u001b[0m\n\u001b[1;32m----> 1\u001b[1;33m \u001b[0ma\u001b[0m \u001b[1;33m=\u001b[0m \u001b[0mint\u001b[0m\u001b[1;33m(\u001b[0m\u001b[0mraw_input\u001b[0m\u001b[1;33m(\u001b[0m\u001b[1;34m\"Ingresa a: \"\u001b[0m\u001b[1;33m)\u001b[0m\u001b[1;33m)\u001b[0m\u001b[1;33m\u001b[0m\u001b[0m\n\u001b[0m\u001b[0;32m      2\u001b[0m \u001b[0mb\u001b[0m \u001b[1;33m=\u001b[0m \u001b[0mint\u001b[0m\u001b[1;33m(\u001b[0m\u001b[0mraw_input\u001b[0m\u001b[1;33m(\u001b[0m\u001b[1;34m\"Ingresa b: \"\u001b[0m\u001b[1;33m)\u001b[0m\u001b[1;33m)\u001b[0m\u001b[1;33m\u001b[0m\u001b[0m\n\u001b[0;32m      3\u001b[0m \u001b[0mc\u001b[0m \u001b[1;33m=\u001b[0m \u001b[0ma\u001b[0m \u001b[1;33m+\u001b[0m \u001b[0mb\u001b[0m\u001b[1;33m\u001b[0m\u001b[0m\n\u001b[0;32m      4\u001b[0m \u001b[0mprint\u001b[0m\u001b[1;33m(\u001b[0m\u001b[0mc\u001b[0m\u001b[1;33m)\u001b[0m\u001b[1;33m\u001b[0m\u001b[0m\n",
      "\u001b[1;31mNameError\u001b[0m: name 'raw_input' is not defined"
     ]
    }
   ],
   "source": [
    "a = int(raw_input(\"Ingresa a: \"))\n",
    "b = int(raw_input(\"Ingresa b: \"))\n",
    "c = a + b \n",
    "print(c)"
   ]
  },
  {
   "cell_type": "markdown",
   "metadata": {},
   "source": [
    "### Tipos de datos"
   ]
  },
  {
   "cell_type": "markdown",
   "metadata": {},
   "source": [
    "+ i : entero / int\n",
    "+ f : decimal / float\n",
    "+ s : cadena / str\n",
    "+ b : booleano / bool\n",
    "+ c : complex / complex"
   ]
  },
  {
   "cell_type": "markdown",
   "metadata": {},
   "source": [
    "### Ejemplo 3"
   ]
  },
  {
   "cell_type": "code",
   "execution_count": null,
   "metadata": {},
   "outputs": [],
   "source": [
    "e = float(raw_input(\" Dame la estatura: \"))\n",
    "p = float(raw_input(\" Dame el peso: \"))\n",
    "imc = p / (e ** 2)\n",
    "\n",
    "if imc < 25:\n",
    "    print(\"Bajo\")\n",
    "else if imc >= 25 and imc < 28:\n",
    "    print(\"Normal\")\n",
    "else:\n",
    "    print(\"Sobre\")"
   ]
  },
  {
   "cell_type": "markdown",
   "metadata": {},
   "source": [
    "## Colecciones de Datos"
   ]
  },
  {
   "cell_type": "markdown",
   "metadata": {},
   "source": [
    "### Listas e índices"
   ]
  },
  {
   "cell_type": "code",
   "execution_count": 37,
   "metadata": {},
   "outputs": [
    {
     "name": "stdout",
     "output_type": "stream",
     "text": [
      "1.2\n",
      "3.8\n",
      "3.8\n"
     ]
    }
   ],
   "source": [
    "x = [1.2, 2.5, 3.4, -2.7, 3.4, 9.2, 0.5, 3.8]\n",
    "print(x[0])\n",
    "print(x[7])\n",
    "print(x[-1])  # devuelve el último"
   ]
  },
  {
   "cell_type": "code",
   "execution_count": 12,
   "metadata": {},
   "outputs": [
    {
     "name": "stdout",
     "output_type": "stream",
     "text": [
      "8\n",
      "3.8\n"
     ]
    }
   ],
   "source": [
    "n = len(x)    # número de elementos en la lista\n",
    "print(n)\n",
    "print(x[n-1]) # devuelve el último de la lista"
   ]
  },
  {
   "cell_type": "markdown",
   "metadata": {},
   "source": [
    "No considera el índice 7"
   ]
  },
  {
   "cell_type": "code",
   "execution_count": 18,
   "metadata": {},
   "outputs": [
    {
     "name": "stdout",
     "output_type": "stream",
     "text": [
      "[-2.7, 3.4, 9.2, 0.5]\n"
     ]
    }
   ],
   "source": [
    "print(x[3:7])"
   ]
  },
  {
   "cell_type": "markdown",
   "metadata": {},
   "source": [
    "No considera el índice 3"
   ]
  },
  {
   "cell_type": "code",
   "execution_count": 19,
   "metadata": {},
   "outputs": [
    {
     "name": "stdout",
     "output_type": "stream",
     "text": [
      "[1.2, 2.5, 3.4]\n"
     ]
    }
   ],
   "source": [
    "print(x[0:3])"
   ]
  },
  {
   "cell_type": "markdown",
   "metadata": {},
   "source": [
    "Es equivalente al ejemplo anterior"
   ]
  },
  {
   "cell_type": "code",
   "execution_count": 20,
   "metadata": {},
   "outputs": [
    {
     "name": "stdout",
     "output_type": "stream",
     "text": [
      "[1.2, 2.5, 3.4]\n"
     ]
    }
   ],
   "source": [
    "print(x[:3]) "
   ]
  },
  {
   "cell_type": "markdown",
   "metadata": {},
   "source": [
    "Devuelve desde el índice -5 hasta el último"
   ]
  },
  {
   "cell_type": "code",
   "execution_count": 22,
   "metadata": {},
   "outputs": [
    {
     "name": "stdout",
     "output_type": "stream",
     "text": [
      "[-2.7, 3.4, 9.2, 0.5, 3.8]\n"
     ]
    }
   ],
   "source": [
    "print(x[-5: ])"
   ]
  },
  {
   "cell_type": "markdown",
   "metadata": {},
   "source": [
    "### Ordenamiento Básico"
   ]
  },
  {
   "cell_type": "code",
   "execution_count": 27,
   "metadata": {},
   "outputs": [
    {
     "data": {
      "text/plain": [
       "[-2.7, 0.5, 1.2, 2.5, 3.4, 3.4, 3.8, 9.2]"
      ]
     },
     "execution_count": 27,
     "metadata": {},
     "output_type": "execute_result"
    }
   ],
   "source": [
    "sorted(x)\n"
   ]
  },
  {
   "cell_type": "code",
   "execution_count": 28,
   "metadata": {},
   "outputs": [
    {
     "data": {
      "text/plain": [
       "21.3"
      ]
     },
     "execution_count": 28,
     "metadata": {},
     "output_type": "execute_result"
    }
   ],
   "source": [
    "sum(x)"
   ]
  },
  {
   "cell_type": "code",
   "execution_count": 29,
   "metadata": {},
   "outputs": [
    {
     "data": {
      "text/plain": [
       "-2.7"
      ]
     },
     "execution_count": 29,
     "metadata": {},
     "output_type": "execute_result"
    }
   ],
   "source": [
    "min(x)"
   ]
  },
  {
   "cell_type": "code",
   "execution_count": 30,
   "metadata": {},
   "outputs": [
    {
     "data": {
      "text/plain": [
       "9.2"
      ]
     },
     "execution_count": 30,
     "metadata": {},
     "output_type": "execute_result"
    }
   ],
   "source": [
    "max(x)"
   ]
  },
  {
   "cell_type": "code",
   "execution_count": 31,
   "metadata": {},
   "outputs": [
    {
     "data": {
      "text/plain": [
       "2.6625"
      ]
     },
     "execution_count": 31,
     "metadata": {},
     "output_type": "execute_result"
    }
   ],
   "source": [
    "sum(x)/n"
   ]
  },
  {
   "cell_type": "code",
   "execution_count": 33,
   "metadata": {},
   "outputs": [
    {
     "data": {
      "text/plain": [
       "2.6625"
      ]
     },
     "execution_count": 33,
     "metadata": {},
     "output_type": "execute_result"
    }
   ],
   "source": [
    "float(sum(x))/n  # para evitar que lo deje como entero"
   ]
  },
  {
   "cell_type": "markdown",
   "metadata": {},
   "source": [
    "### Ejemplo para ordenamiento"
   ]
  },
  {
   "cell_type": "code",
   "execution_count": 39,
   "metadata": {},
   "outputs": [
    {
     "name": "stdout",
     "output_type": "stream",
     "text": [
      "[]\n",
      "[-2.7, 0.5, 1.2, 2.5, 3.4, 3.4, 3.8, 9.2]\n"
     ]
    }
   ],
   "source": [
    "x = [1.2, 2.5, 3.4, -2.7, 3.4, 9.2, 0.5, 3.8]\n",
    "y = []\n",
    "while len(x) > 0 :\n",
    "    mi = min(x)\n",
    "    y.append(mi)\n",
    "    x.remove(mi)\n",
    "print(x)\n",
    "print(y)"
   ]
  },
  {
   "cell_type": "markdown",
   "metadata": {},
   "source": [
    "## Funciones"
   ]
  },
  {
   "cell_type": "code",
   "execution_count": 43,
   "metadata": {},
   "outputs": [],
   "source": [
    "def ordenar(x):\n",
    "    a = x[:]\n",
    "    y = []\n",
    "    while len(a) > 0:\n",
    "        m = min(a)\n",
    "        y.append(m)\n",
    "        a.remove(m)\n",
    "    return(y)"
   ]
  },
  {
   "cell_type": "code",
   "execution_count": 45,
   "metadata": {},
   "outputs": [
    {
     "name": "stdout",
     "output_type": "stream",
     "text": [
      "[-0.2, 1, 2, 2.3, 5]\n"
     ]
    }
   ],
   "source": [
    "w= [1, 2, 2.3, 5, -0.2]\n",
    "o = ordenar(w)\n",
    "print(o)"
   ]
  },
  {
   "cell_type": "markdown",
   "metadata": {},
   "source": [
    "### Colecciones:\n",
    "+ Listas [ ]\n",
    "+ Tuplas ( )\n",
    "+ Diccionarios { }"
   ]
  },
  {
   "cell_type": "markdown",
   "metadata": {},
   "source": [
    "### Listas"
   ]
  },
  {
   "cell_type": "code",
   "execution_count": 47,
   "metadata": {},
   "outputs": [],
   "source": [
    "x = [1,2,1,2,5,3,4]"
   ]
  },
  {
   "cell_type": "code",
   "execution_count": 50,
   "metadata": {},
   "outputs": [
    {
     "name": "stdout",
     "output_type": "stream",
     "text": [
      "2\n",
      "2\n"
     ]
    }
   ],
   "source": [
    "k2 = x.count(2)\n",
    "k1 = x.count(1)\n",
    "print(k1)\n",
    "print(k2)"
   ]
  },
  {
   "cell_type": "code",
   "execution_count": 51,
   "metadata": {},
   "outputs": [
    {
     "name": "stdout",
     "output_type": "stream",
     "text": [
      "9\n"
     ]
    }
   ],
   "source": [
    "s = 0\n",
    "for n in x:\n",
    "    if n < 4:\n",
    "        s = s + n    # s+=n\n",
    "print(s)"
   ]
  },
  {
   "cell_type": "markdown",
   "metadata": {},
   "source": [
    "Genera los número impares entre 1 y 10:"
   ]
  },
  {
   "cell_type": "code",
   "execution_count": 59,
   "metadata": {},
   "outputs": [
    {
     "name": "stdout",
     "output_type": "stream",
     "text": [
      "[1, 3, 5, 7, 9]\n"
     ]
    }
   ],
   "source": [
    "x = []\n",
    "for i in range(1, 10, 2):\n",
    "    x.append(i)\n",
    "print(x)"
   ]
  },
  {
   "cell_type": "markdown",
   "metadata": {},
   "source": [
    "Otra manera:"
   ]
  },
  {
   "cell_type": "code",
   "execution_count": 62,
   "metadata": {},
   "outputs": [
    {
     "name": "stdout",
     "output_type": "stream",
     "text": [
      "[1, 3, 5, 7, 9]\n"
     ]
    }
   ],
   "source": [
    "x = [i for i in range(1, 10 , 2)]\n",
    "print(x)"
   ]
  },
  {
   "cell_type": "markdown",
   "metadata": {},
   "source": [
    "Lista con los primeros cien número elevados al cuadrado"
   ]
  },
  {
   "cell_type": "code",
   "execution_count": 70,
   "metadata": {},
   "outputs": [
    {
     "name": "stdout",
     "output_type": "stream",
     "text": [
      "[1, 4, 9, 16, 25, 36, 49, 64, 81, 100, 121, 144, 169, 196, 225, 256, 289, 324, 361, 400, 441, 484, 529, 576, 625, 676, 729, 784, 841, 900, 961, 1024, 1089, 1156, 1225, 1296, 1369, 1444, 1521, 1600, 1681, 1764, 1849, 1936, 2025, 2116, 2209, 2304, 2401, 2500, 2601, 2704, 2809, 2916, 3025, 3136, 3249, 3364, 3481, 3600, 3721, 3844, 3969, 4096, 4225, 4356, 4489, 4624, 4761, 4900, 5041, 5184, 5329, 5476, 5625, 5776, 5929, 6084, 6241, 6400, 6561, 6724, 6889, 7056, 7225, 7396, 7569, 7744, 7921, 8100, 8281, 8464, 8649, 8836, 9025, 9216, 9409, 9604, 9801, 10000]\n",
      "\n",
      "\n",
      "tamaño de la lista:100\n"
     ]
    }
   ],
   "source": [
    "x = [i**2 for i in range(1,101)]\n",
    "print(x)\n",
    "print(\"\\n\")\n",
    "print(\"tamaño de la lista:\" + str(len(x)))"
   ]
  },
  {
   "cell_type": "markdown",
   "metadata": {},
   "source": [
    "### Lista normalizada"
   ]
  },
  {
   "cell_type": "code",
   "execution_count": 71,
   "metadata": {},
   "outputs": [
    {
     "name": "stdout",
     "output_type": "stream",
     "text": [
      "[0.0, 0.36363636363636365, 0.18181818181818182, 0.7272727272727273, 1.0]\n"
     ]
    }
   ],
   "source": [
    "x = [1, 5, 3, 9, 12]\n",
    "y = [(i - min(x))/(max(x) - min(x)) for i in x]\n",
    "print(y)"
   ]
  },
  {
   "cell_type": "markdown",
   "metadata": {},
   "source": [
    "### Derivada numérica"
   ]
  },
  {
   "cell_type": "code",
   "execution_count": 74,
   "metadata": {},
   "outputs": [
    {
     "name": "stdout",
     "output_type": "stream",
     "text": [
      "[21, 43, 111, 381, 703]\n"
     ]
    }
   ],
   "source": [
    "def f(x):\n",
    "    return x ** 2 + 2 * x + x + 3\n",
    "a = [3, 5, 9, 18, 25]\n",
    "b = [f(x) for x in a]\n",
    "print(b)"
   ]
  },
  {
   "cell_type": "code",
   "execution_count": 78,
   "metadata": {},
   "outputs": [
    {
     "name": "stdout",
     "output_type": "stream",
     "text": [
      "[9.000000000014552, 12.99999999986312, 20.99999999956026, 38.99999999816828, 52.99999999124338]\n",
      "[9.000009999837744, 13.000010000041582, 21.000009999738722, 39.000009996925655, 53.0000099956851]\n"
     ]
    }
   ],
   "source": [
    "h = 0.00001\n",
    "c = [(f(x+h) - f(x-h)) / (2 * h) for x in a]\n",
    "print(c)\n",
    "d = [(f(x+h)-f(x))/h for x in a]\n",
    "print(d)"
   ]
  },
  {
   "cell_type": "markdown",
   "metadata": {},
   "source": [
    "## Mapeo, Filtro y Reducción (MapReduce)"
   ]
  },
  {
   "cell_type": "markdown",
   "metadata": {},
   "source": [
    "### MAPEO\n",
    "\n",
    "Los mapeos y filtros sólo se aplican a listas.\n",
    "\n",
    "+ Mapeo: Aplicación de una función de transformación T para cada elemento de una lista $x$, para producir una lista $y$ del mismo tamaño y los mismos elementos pero transformados. Es decir, llevar una lista a otra lista bajo una transformación singular a cada elemento.\n",
    "\n",
    "$$T(\\bar{x}^n)  \\rightarrow   \\bar{y}^n$$"
   ]
  },
  {
   "cell_type": "markdown",
   "metadata": {},
   "source": [
    "### Ejemplo:"
   ]
  },
  {
   "cell_type": "code",
   "execution_count": 83,
   "metadata": {},
   "outputs": [
    {
     "name": "stdout",
     "output_type": "stream",
     "text": [
      "[1, 8, 9, 5, 3]\n",
      "[1, 64, 81, 25, 9]\n"
     ]
    }
   ],
   "source": [
    "def cuadrado(n):\n",
    "    return n**2\n",
    "\n",
    "a = [1, 8, 9, 5, 3]\n",
    "# b = [cuadrado(x) for x in a] esto es equivalente\n",
    "b = list(map(cuadrado,a)) # versión más potente\n",
    "\n",
    "print(a)\n",
    "print(b)"
   ]
  },
  {
   "cell_type": "markdown",
   "metadata": {},
   "source": [
    "### Ejemplo:\n",
    "\n",
    "Cálculo de *desviación estándar*.\n",
    "\n",
    "Se busca a partir de una lista $A$, generar una lista $B$ a la que se le resta a cada elemento el promedio de $A$ para posteriormente generar una lista $C$ con el cuadrado de cada elemento de $B$."
   ]
  },
  {
   "cell_type": "code",
   "execution_count": 89,
   "metadata": {},
   "outputs": [
    {
     "name": "stdout",
     "output_type": "stream",
     "text": [
      "1.3451854182690985\n"
     ]
    }
   ],
   "source": [
    "a = [1, 5, 3, 4, 2, 3, 2]\n",
    "p = sum(a) / len(a)\n",
    "b = list(map(lambda x: x - p, a))\n",
    "c = list(map(lambda y: y**2, b))\n",
    "\n",
    "s2 = sum(c) / (len(c) - 1)\n",
    "print(s2 ** 0.5)    "
   ]
  },
  {
   "cell_type": "markdown",
   "metadata": {},
   "source": [
    "### FILTRO\n",
    "\n",
    "Un filtro es una función que recibe un predicado (una función) que devuelve *True/False* para una entrada dada y la aplica a una lista para generar una sublista con los elementos que cumplen la función de filtro (el predicado).\n",
    "\n",
    "$$ F(x) \\rightarrow y \\;\\; y \\subseteq x $$\n",
    "\n",
    "$$F: \\bar{x}^n \\rightarrow \\bar{y}^m \\;\\; m \\le n$$"
   ]
  },
  {
   "cell_type": "markdown",
   "metadata": {},
   "source": [
    "#### Tupla: \n",
    "\n",
    "Paquete de valores/elementos. Si el paquete mide $k$ entonces nos referimos a una $k$-tupla. Una $n$-tupla se puede desempacar en n variables. Las tuplas sirven para transportar datos en un mismo paquete.\n",
    "\n",
    "```\n",
    "punto = (2, 3) # empaquetar\n",
    "x,y = punto    # desempaquetar\n",
    "```\n"
   ]
  },
  {
   "cell_type": "markdown",
   "metadata": {},
   "source": [
    "#### Diccionario:\n",
    "\n",
    "Es una colección de valores/elemenots almacenados en claves arbitrarias.\n",
    "Un diccionario es similar a una tabla hash, donde a una clave se le asocia un valor."
   ]
  },
  {
   "cell_type": "code",
   "execution_count": 92,
   "metadata": {},
   "outputs": [
    {
     "name": "stdout",
     "output_type": "stream",
     "text": [
      "{'nombre': 'Juan', 'edad': 45, 'genero': 'M'}\n"
     ]
    }
   ],
   "source": [
    "persona = {\n",
    "    \"nombre\": \"Juan\",\n",
    "    \"edad\": 45,\n",
    "    \"genero\": \"M\"\n",
    "}\n",
    "\n",
    "print(persona)"
   ]
  },
  {
   "cell_type": "markdown",
   "metadata": {},
   "source": [
    "## Análisis de Datos\n",
    "\n",
    "\n",
    "$$ AD \\rightarrow PPD \\rightarrow PD \\rightarrow FD $$\n",
    "\n",
    "+ AD: Adquisición de Datos mediante archivos tipo csv, xls, sql, txt, image, audio, video; de manera local, online o memoria.\n",
    "\n",
    "+ PPD: Preprocesamiento de Datos. La información no se encuentra limpia. Decomposición de señales, reducción de pixeles, extracción de textos.\n",
    "\n",
    "+ PD: Procesamiento de Datos. Se toman los datos limpios en listas, arreglos, diccionarios, etc. Se realizan mapeos, filtros, modelos, visualizaciones, etc.\n",
    "\n",
    "+ FD: Formato de Datos. Toma la salida del procesamiento de datos y la almacena de manera conveniente para generar un reporte automatizado, gráficos estilizados. Esto se puede guardar en una base de datos, txt, pdf, img, etc."
   ]
  },
  {
   "cell_type": "code",
   "execution_count": null,
   "metadata": {},
   "outputs": [],
   "source": []
  },
  {
   "cell_type": "code",
   "execution_count": null,
   "metadata": {},
   "outputs": [],
   "source": []
  },
  {
   "cell_type": "code",
   "execution_count": null,
   "metadata": {},
   "outputs": [],
   "source": []
  },
  {
   "cell_type": "code",
   "execution_count": null,
   "metadata": {},
   "outputs": [],
   "source": []
  }
 ],
 "metadata": {
  "kernelspec": {
   "display_name": "Python 3",
   "language": "python",
   "name": "python3"
  },
  "language_info": {
   "codemirror_mode": {
    "name": "ipython",
    "version": 3
   },
   "file_extension": ".py",
   "mimetype": "text/x-python",
   "name": "python",
   "nbconvert_exporter": "python",
   "pygments_lexer": "ipython3",
   "version": "3.6.6"
  }
 },
 "nbformat": 4,
 "nbformat_minor": 2
}
