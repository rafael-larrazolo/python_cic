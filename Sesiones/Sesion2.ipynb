{
 "cells": [
  {
   "cell_type": "markdown",
   "metadata": {},
   "source": [
    "# Programación Python con Aplicaciones al Ámbito Científico"
   ]
  },
  {
   "cell_type": "markdown",
   "metadata": {},
   "source": [
    "## Sesión 2"
   ]
  },
  {
   "cell_type": "code",
   "execution_count": 8,
   "metadata": {},
   "outputs": [],
   "source": [
    "import numpy as np\n",
    "import pandas as pd\n",
    "import matplotlib as plt"
   ]
  },
  {
   "cell_type": "markdown",
   "metadata": {},
   "source": [
    "+ **Numpy** - Arreglos N-Dimensionales\n",
    "\n",
    "+ **Matplot** - Graficación\n",
    "\n",
    "+ **Pandas** - Análisis de Datos "
   ]
  },
  {
   "cell_type": "markdown",
   "metadata": {},
   "source": [
    "## Introducción a Numpy\n",
    "\n",
    "Librería de Python especializada en el manejo de arreglos n-dimensionales con potencia cercana a c/c++ gracias a su precompliación y tipado de datos.\n",
    "\n",
    "El componente principal de *numpy* es el arreglo n-dimensional, donde una dimensión significa un vector en matemáticas, o un arreglo en computación. La dimensión 2 significa una matriz o tabla la cual contiene 2 ejes de crecimiento, las filas y columnas, o el eje primario y el secundario. Una imagen puede ser codificada en 3 dimensiones, un ancho, un largo y una profundidad de 3 canales de color. Dimensiones superiores permitirán manejar información más compleja"
   ]
  },
  {
   "cell_type": "markdown",
   "metadata": {},
   "source": [
    "### Arreglos de 1 dimensión (Vectores)\n",
    "\n",
    "Se pueden crear vectores o arreglos uni-dimensionales en *numpy* a través de las funciones *range*, *array* y *random*."
   ]
  },
  {
   "cell_type": "code",
   "execution_count": 9,
   "metadata": {},
   "outputs": [],
   "source": [
    "# Importa la librería\n",
    "import numpy as np"
   ]
  },
  {
   "cell_type": "markdown",
   "metadata": {},
   "source": [
    "Crear un arreglo a partir de una lista de python"
   ]
  },
  {
   "cell_type": "code",
   "execution_count": 10,
   "metadata": {},
   "outputs": [
    {
     "name": "stdout",
     "output_type": "stream",
     "text": [
      "[ 1  3  5  7  9 11 13 15]\n"
     ]
    }
   ],
   "source": [
    "vec1 = np.array([1,3,5,7,9,11,13,15])\n",
    "print(vec1)"
   ]
  },
  {
   "cell_type": "markdown",
   "metadata": {},
   "source": [
    "**No** es una lista de python"
   ]
  },
  {
   "cell_type": "code",
   "execution_count": 12,
   "metadata": {},
   "outputs": [
    {
     "name": "stdout",
     "output_type": "stream",
     "text": [
      "<class 'numpy.ndarray'>\n"
     ]
    }
   ],
   "source": [
    "print(type(vec1))"
   ]
  },
  {
   "cell_type": "markdown",
   "metadata": {},
   "source": [
    "Obtener el tamaño del arreglo"
   ]
  },
  {
   "cell_type": "code",
   "execution_count": 16,
   "metadata": {},
   "outputs": [
    {
     "name": "stdout",
     "output_type": "stream",
     "text": [
      "El tamaño del vector es: 8\n"
     ]
    }
   ],
   "source": [
    "n = len(vec1)\n",
    "print(\"El tamaño del vector es: {}\".format(n))"
   ]
  },
  {
   "cell_type": "markdown",
   "metadata": {},
   "source": [
    "La dimensión de un arreglo `n-dimensional` está dada por `shape`, la cual contiene una `n-tupla` con los tamaños en cada dimensión, por ejemplo, un vector con `8` elementos tiene una dimensión, es decir, tiene un `shape` que es una `1-tupla` (`(*,)`), en la `1-tupla` podemos encontrar el tamaño de los elementos del arreglo para el eje. En otro ejemplo, si tenemos un arreglo `2-dimensional` (una matriz), su `shape` será una `2-tupla` (`(*,*)`), donde el primer valor en la tupla representa el tamaño del primer eje (filas) y el segundo valore representa el número de elementos en el segundo eje (columnas)."
   ]
  },
  {
   "cell_type": "code",
   "execution_count": 18,
   "metadata": {},
   "outputs": [
    {
     "name": "stdout",
     "output_type": "stream",
     "text": [
      "La dimensión del vector es: (8,)\n"
     ]
    }
   ],
   "source": [
    "dim = vec1.shape\n",
    "print(\"La dimensión del vector es: {}\".format(dim))"
   ]
  },
  {
   "cell_type": "markdown",
   "metadata": {},
   "source": [
    "### Operaciones entre vectores\n",
    "\n",
    "Se pueden realizar operaciones importantes entre vectores según la documentación oficial de *numpy* que se encuentra disponible [aquí](https://docs.scipy.org/doc/numpy/user/quickstart.html)."
   ]
  },
  {
   "cell_type": "code",
   "execution_count": 21,
   "metadata": {},
   "outputs": [
    {
     "name": "stdout",
     "output_type": "stream",
     "text": [
      "Suma: [6 6 6 6 6]\n",
      "Resta: [-4 -2  0  2  4]\n"
     ]
    }
   ],
   "source": [
    "v1 = np.array([1, 2, 3, 4, 5])\n",
    "v2 = np.array([5, 4, 3, 2, 1])\n",
    "\n",
    "print(\"Suma: {}\".format(v1 + v2))\n",
    "print(\"Resta: {}\".format(v1 - v2))"
   ]
  },
  {
   "cell_type": "code",
   "execution_count": 22,
   "metadata": {},
   "outputs": [
    {
     "name": "stdout",
     "output_type": "stream",
     "text": [
      "2 * v1 = [ 2  4  6  8 10]\n",
      "v1 * 10  = [10 20 30 40 50]\n"
     ]
    }
   ],
   "source": [
    "# vector * escalar\n",
    "v3 = 2 * v1\n",
    "v4 = v1 * 10\n",
    "\n",
    "print(\"2 * v1 = {}\".format(v3))\n",
    "print(\"v1 * 10  = {}\".format(v4))"
   ]
  },
  {
   "cell_type": "code",
   "execution_count": 23,
   "metadata": {},
   "outputs": [
    {
     "name": "stdout",
     "output_type": "stream",
     "text": [
      "v1 ^ 2 = [ 1  4  9 16 25]\n",
      "v1 ^ 1/2 = [ 1.          1.41421356  1.73205081  2.          2.23606798]\n"
     ]
    }
   ],
   "source": [
    "v5 = v1 ** 2\n",
    "v6 = v1 ** 0.5\n",
    "\n",
    "print(\"v1 ^ 2 = {}\".format(v5))\n",
    "print(\"v1 ^ 1/2 = {}\".format(v6))"
   ]
  },
  {
   "cell_type": "code",
   "execution_count": 24,
   "metadata": {},
   "outputs": [
    {
     "name": "stdout",
     "output_type": "stream",
     "text": [
      "sin(v1) = [ 0.84147098  0.90929743  0.14112001 -0.7568025  -0.95892427]\n",
      "cos(v1) = [ 0.54030231 -0.41614684 -0.9899925  -0.65364362  0.28366219]\n"
     ]
    }
   ],
   "source": [
    "v7 = np.sin(v1)\n",
    "v8 = np.cos(v1)\n",
    "\n",
    "print(\"sin(v1) = {}\".format(v7))\n",
    "print(\"cos(v1) = {}\".format(v8))"
   ]
  },
  {
   "cell_type": "code",
   "execution_count": 25,
   "metadata": {},
   "outputs": [
    {
     "data": {
      "text/plain": [
       "array([ 1.55740772, -2.18503986, -0.14254654,  1.15782128, -3.38051501])"
      ]
     },
     "execution_count": 25,
     "metadata": {},
     "output_type": "execute_result"
    }
   ],
   "source": [
    "v7/v8"
   ]
  },
  {
   "cell_type": "code",
   "execution_count": 26,
   "metadata": {},
   "outputs": [
    {
     "data": {
      "text/plain": [
       "array([ 1.55740772, -2.18503986, -0.14254654,  1.15782128, -3.38051501])"
      ]
     },
     "execution_count": 26,
     "metadata": {},
     "output_type": "execute_result"
    }
   ],
   "source": [
    "np.tan(v1)"
   ]
  },
  {
   "cell_type": "markdown",
   "metadata": {},
   "source": [
    "## Operaciones entre matrices\n",
    "\n",
    "Las matrices son arreglos de 2 dimensiones, las cuales pueden ayudarnos a reterner datos multidimensionales, resolver ecuaciones lineales, modelar sistemas dinámicos, hacer optimización, entre otras cosas."
   ]
  },
  {
   "cell_type": "code",
   "execution_count": 27,
   "metadata": {},
   "outputs": [
    {
     "name": "stdout",
     "output_type": "stream",
     "text": [
      "[[1 2 3]\n",
      " [4 5 6]\n",
      " [7 8 9]]\n"
     ]
    }
   ],
   "source": [
    "# Crear una matriz de 3x3\n",
    "mat1 = np.array([\n",
    "    [1,2,3],\n",
    "    [4,5,6],\n",
    "    [7,8,9]\n",
    "])\n",
    "\n",
    "print(mat1)"
   ]
  },
  {
   "cell_type": "code",
   "execution_count": 28,
   "metadata": {},
   "outputs": [
    {
     "name": "stdout",
     "output_type": "stream",
     "text": [
      "Dimensión: (3, 3)\n"
     ]
    }
   ],
   "source": [
    "dim = mat1.shape\n",
    "\n",
    "print(\"Dimensión: {}\" .format(dim))"
   ]
  },
  {
   "cell_type": "markdown",
   "metadata": {},
   "source": [
    "Un sistema de ecuaciones simultáneas se define a partir de ecuaciones lineales que poseen una o más incógnitas. Dichos sistemas se pueden resolver a partir de una representación matricial.\n",
    "\n",
    "Por ejemplo, si tenemos 3 ecuaciones que describen las equivalencias entre 3 incógnitas, podemos enecontrar el vector de incógnitas como se muestra a continuación:\n",
    "\n",
    "$$1 * x + 2 * y = 32$$\n",
    "\n",
    "$$2 * x - 1 * y + 4 * z = 4$$\n",
    "\n",
    "$$1 * x - 6 *z = 10$$\n",
    "\n",
    "$$ \\begin{bmatrix}\n",
    "    1 & 2 & 0 \\\\\n",
    "    2 & -1 & 4 \\\\\n",
    "    1 & 0 & -6 \n",
    "\\end{bmatrix}\n",
    "\\begin{bmatrix}\n",
    "    x \\\\\n",
    "    y \\\\\n",
    "    z \n",
    "\\end{bmatrix}= \n",
    "\\begin{bmatrix}\n",
    "    32 \\\\\n",
    "    4 \\\\\n",
    "    10 \n",
    "\\end{bmatrix}$$\n",
    "\n",
    "\n"
   ]
  },
  {
   "cell_type": "code",
   "execution_count": 32,
   "metadata": {},
   "outputs": [
    {
     "name": "stdout",
     "output_type": "stream",
     "text": [
      "[ 16.   8.   1.]\n"
     ]
    }
   ],
   "source": [
    "A = np.array([\n",
    "    [1,2,0],\n",
    "    [2,-1,4],\n",
    "    [1,0,-6] \n",
    "])\n",
    "\n",
    "b = np.array([32, 28, 10])\n",
    "x = np.dot(np.linalg.inv(A),b)\n",
    "print(x)"
   ]
  },
  {
   "cell_type": "markdown",
   "metadata": {},
   "source": [
    "### Generar arreglos n-dimensionales\n",
    "\n",
    "Tenemos varios métodos útiles para generar arreglos aleatorios"
   ]
  },
  {
   "cell_type": "code",
   "execution_count": 34,
   "metadata": {},
   "outputs": [
    {
     "name": "stdout",
     "output_type": "stream",
     "text": [
      "[  1   2   3   4   5   6   7   8   9  10  11  12  13  14  15  16  17  18\n",
      "  19  20  21  22  23  24  25  26  27  28  29  30  31  32  33  34  35  36\n",
      "  37  38  39  40  41  42  43  44  45  46  47  48  49  50  51  52  53  54\n",
      "  55  56  57  58  59  60  61  62  63  64  65  66  67  68  69  70  71  72\n",
      "  73  74  75  76  77  78  79  80  81  82  83  84  85  86  87  88  89  90\n",
      "  91  92  93  94  95  96  97  98  99 100]\n"
     ]
    }
   ],
   "source": [
    "x = np.arange(1,101)\n",
    "\n",
    "print(x)"
   ]
  },
  {
   "cell_type": "code",
   "execution_count": 37,
   "metadata": {},
   "outputs": [
    {
     "name": "stdout",
     "output_type": "stream",
     "text": [
      "[ 0.  0.  0.  0.  0.  0.  0.  0.  0.  0.  0.  0.  0.  0.  0.  0.  0.  0.\n",
      "  0.  0.  0.  0.  0.  0.  0.  0.  0.  0.  0.  0.  0.  0.  0.  0.  0.  0.\n",
      "  0.  0.  0.  0.  0.  0.  0.  0.  0.  0.  0.  0.  0.  0.  0.  0.  0.  0.\n",
      "  0.  0.  0.  0.  0.  0.  0.  0.  0.  0.  0.  0.  0.  0.  0.  0.  0.  0.\n",
      "  0.  0.  0.  0.  0.  0.  0.  0.  0.  0.  0.  0.  0.  0.  0.  0.  0.  0.\n",
      "  0.  0.  0.  0.  0.  0.  0.  0.  0.  0.]\n",
      "[ 1.  1.  1.  1.  1.  1.  1.  1.  1.  1.  1.  1.  1.  1.  1.  1.  1.  1.\n",
      "  1.  1.  1.  1.  1.  1.  1.  1.  1.  1.  1.  1.  1.  1.  1.  1.  1.  1.\n",
      "  1.  1.  1.  1.  1.  1.  1.  1.  1.  1.  1.  1.  1.  1.  1.  1.  1.  1.\n",
      "  1.  1.  1.  1.  1.  1.  1.  1.  1.  1.  1.  1.  1.  1.  1.  1.  1.  1.\n",
      "  1.  1.  1.  1.  1.  1.  1.  1.  1.  1.  1.  1.  1.  1.  1.  1.  1.  1.\n",
      "  1.  1.  1.  1.  1.  1.  1.  1.  1.  1.]\n"
     ]
    }
   ],
   "source": [
    "# Crear arreglo con 100 elementos 0s.\n",
    "x = np.zeros(100)\n",
    "\n",
    "# Crear arreglo con 100 elementos 1s.\n",
    "y = np.ones(100)\n",
    "\n",
    "print(x)\n",
    "print(y)\n"
   ]
  },
  {
   "cell_type": "code",
   "execution_count": 39,
   "metadata": {},
   "outputs": [
    {
     "name": "stdout",
     "output_type": "stream",
     "text": [
      "[ 0.65177642  0.04733341  0.07662501  0.90651691  0.95743369  0.48474077\n",
      "  0.6429283   0.17989024  0.32035575  0.33059094  0.57565982  0.17624135\n",
      "  0.55664341  0.86082912  0.09307482  0.12072752  0.07988501  0.27693093\n",
      "  0.85569788  0.1812425   0.39032787  0.93916364  0.51669572  0.88757894\n",
      "  0.95760334  0.56825803  0.5686515   0.23043935  0.95909382  0.73190892\n",
      "  0.89275539  0.15871857  0.87268827  0.23859125  0.93259666  0.45540051\n",
      "  0.50223009  0.4790307   0.46102055  0.97901981  0.81698174  0.27583395\n",
      "  0.74963356  0.52561469  0.71628693  0.7170609   0.8026538   0.37485633\n",
      "  0.38737927  0.88798015  0.59230231  0.51893883  0.69611723  0.40661366\n",
      "  0.06812955  0.06670707  0.89140804  0.05765075  0.37473164  0.12980009\n",
      "  0.78196272  0.17801366  0.04479447  0.05505048  0.6550826   0.05834239\n",
      "  0.80206515  0.75728095  0.70365343  0.71055352  0.80537732  0.4094322\n",
      "  0.76954133  0.37432264  0.5336935   0.30140815  0.39381532  0.87343111\n",
      "  0.82717781  0.54626802  0.08956592  0.49241887  0.14899593  0.61804152\n",
      "  0.16292279  0.57861633  0.03771722  0.41445779  0.31959958  0.14983657\n",
      "  0.6817389   0.65534301  0.48477625  0.29616239  0.55086028  0.22238707\n",
      "  0.83652582  0.77119783  0.20865335  0.09510507]\n"
     ]
    }
   ],
   "source": [
    "# Crear un arreglo de aleatorios entre 0 y 1\n",
    "\n",
    "x = np.random.random(100)\n",
    "print(x)\n"
   ]
  },
  {
   "cell_type": "code",
   "execution_count": 40,
   "metadata": {},
   "outputs": [
    {
     "name": "stdout",
     "output_type": "stream",
     "text": [
      "[4 5 4 6 6 1 1 4 6 4 5 5 4 1 6 4 1 1 5 1 4 6 6 5 6 5 4 4 4 4 4 4 6 1 1 5 4\n",
      " 1 4 1 6 4 1 5 1 5 1 4 1 5 1 4 5 1 6 4 4 5 4 1 5 6 4 5 4 5 1 1 4 4 6 6 5 4\n",
      " 5 1 6 1 4 1 6 6 1 5 5 4 1 1 5 6 1 1 5 6 4 1 4 6 4 4]\n"
     ]
    }
   ],
   "source": [
    "# Crear un arreglo de aleatorios en una lista (muestreo con reemplazo.)\n",
    "\n",
    "a = [1, 4, 5, 6]\n",
    "\n",
    "x = np.random.choice(a, 100)\n",
    "print(x)"
   ]
  },
  {
   "cell_type": "markdown",
   "metadata": {},
   "source": [
    "## Introducción a Matplotlib\n",
    "\n",
    "`Matplotlib` es una librería de Python para graficación que se integra a `numpy` y es utilizada por la mayoría de librerías como forma de reportar gráficas.\n",
    "\n",
    "Con `matplotlib` se pueden crear gráficas en 2 y 3 dimensiones. \n"
   ]
  },
  {
   "cell_type": "markdown",
   "metadata": {},
   "source": [
    "Una de las gráficas más importantes son las series, las cuales permiten graficar un conjunto de puntos para dos ejes."
   ]
  },
  {
   "cell_type": "code",
   "execution_count": 42,
   "metadata": {},
   "outputs": [
    {
     "data": {
      "text/plain": [
       "<function matplotlib.pyplot.show(*args, **kw)>"
      ]
     },
     "execution_count": 42,
     "metadata": {},
     "output_type": "execute_result"
    },
    {
     "data": {
      "image/png": "[encoded data removed]",
      "text/plain": [
       "<Figure size 432x288 with 1 Axes>"
      ]
     },
     "metadata": {},
     "output_type": "display_data"
    }
   ],
   "source": [
    "import matplotlib.pyplot as plt\n",
    "\n",
    "x = [1, 2, 3, 4, 5]\n",
    "y = [1, 4, 9, 16, 25]\n",
    "\n",
    "plt.plot(x,y)\n",
    "plt.show\n"
   ]
  },
  {
   "cell_type": "markdown",
   "metadata": {},
   "source": [
    "### Sistema de colores y marcadores\n",
    "\n",
    "`Matplotlib` posee un conjunto nombrado de marcadores disponible [aquí](https://matplotlib.org/api/markers_api.html). \n",
    "\n",
    "Los principales marcadores son:\n",
    "\n",
    "+ `.`  punto\n",
    "\n",
    "+ `o`  punto grande\n",
    "\n",
    "+ `-`  línea\n",
    "\n",
    "+ `--`  línea punteada\n",
    "\n",
    "+ `^`  triángulo hacia arriba\n",
    "\n",
    "+ `s` cuadrado\n",
    "\n",
    "+ `p` pentágono\n",
    "\n",
    "+ `*` estrella\n",
    "\n",
    "+ `+` signo más\n",
    "\n",
    "+ `x` signo tache\n",
    "\n",
    "Los marcadores básicos se pueden combinar con la líneaa y la línea punteada, por ejemplo: `s-`, `*--`"
   ]
  },
  {
   "cell_type": "code",
   "execution_count": 43,
   "metadata": {},
   "outputs": [
    {
     "data": {
      "image/png": "[encoded data removed]",
      "text/plain": [
       "<Figure size 432x288 with 1 Axes>"
      ]
     },
     "metadata": {},
     "output_type": "display_data"
    }
   ],
   "source": [
    "x = [1, 2, 3, 4, 5]\n",
    "x = [2, 4, 3, 1, 6]\n",
    "\n",
    "plt.plot(x, y, \"s--\")\n",
    "\n",
    "plt.show()"
   ]
  },
  {
   "cell_type": "markdown",
   "metadata": {},
   "source": [
    "### Sistema de colores\n",
    "\n",
    "En `matplotlib` se puede utilizar el sistema de colores nombrados en `css/html` y los colores en forma `hexadecimal`. Algunos colores importantes se pueden encontrar [aqui](https://www.w3schools.com/colors/colors_xkcd.asp)."
   ]
  },
  {
   "cell_type": "code",
   "execution_count": 44,
   "metadata": {},
   "outputs": [
    {
     "data": {
      "text/plain": [
       "<function matplotlib.pyplot.show(*args, **kw)>"
      ]
     },
     "execution_count": 44,
     "metadata": {},
     "output_type": "execute_result"
    },
    {
     "data": {
      "image/png": "[encoded data removed]",
      "text/plain": [
       "<Figure size 432x288 with 1 Axes>"
      ]
     },
     "metadata": {},
     "output_type": "display_data"
    }
   ],
   "source": [
    "x = [1, 2, 3, 4, 5]\n",
    "y = [1, 0, 2, 1, 0]\n",
    "\n",
    "plt.plot(x, y, color = \"deeppink\")\n",
    "plt.show"
   ]
  },
  {
   "cell_type": "markdown",
   "metadata": {},
   "source": [
    "### Graficar varias series\n",
    "\n",
    "Para graficar varias series se puede utilizar `plt.plot(...)` varias veces (una por serie) antes de hacer `plt.show` o `plt.savefig(\"graf.png\")`"
   ]
  },
  {
   "cell_type": "code",
   "execution_count": 48,
   "metadata": {},
   "outputs": [
    {
     "data": {
      "text/plain": [
       "<function matplotlib.pyplot.show(*args, **kw)>"
      ]
     },
     "execution_count": 48,
     "metadata": {},
     "output_type": "execute_result"
    },
    {
     "data": {
      "image/png": "[encoded data removed]",
      "text/plain": [
       "<Figure size 432x288 with 1 Axes>"
      ]
     },
     "metadata": {},
     "output_type": "display_data"
    }
   ],
   "source": [
    "x1 = [1, 2, 3, 4, 5]\n",
    "y1 = [5, 4, 2, 7, 6]\n",
    "\n",
    "plt.plot(x1, y1, color = \"blue\")\n",
    "\n",
    "x2 = [1, 2, 3]\n",
    "y2 = [6, 3, 4]\n",
    "\n",
    "plt.plot(x2, y2, color = \"red\")\n",
    "\n",
    "x3 = [1, 2, 3, 4, 5, 6]\n",
    "y3 = [1, 2, 5, 4, 8, 7]\n",
    "\n",
    "plt.plot(x3, y3, color = \"green\")\n",
    "\n",
    "plt.show\n"
   ]
  },
  {
   "cell_type": "markdown",
   "metadata": {},
   "source": [
    "### Integrar arreglos de `numpy` a `matplotlib`\n",
    "\n",
    "Se pueden usar arreglos de `numpy` para crear gráficas más sofisticadas y basadas en funciones matemáticas."
   ]
  },
  {
   "cell_type": "code",
   "execution_count": 50,
   "metadata": {},
   "outputs": [
    {
     "name": "stdout",
     "output_type": "stream",
     "text": [
      "[-10.  -8.  -6.  -4.  -2.   0.   2.   4.   6.   8.  10.]\n"
     ]
    }
   ],
   "source": [
    "import numpy as np\n",
    "\n",
    "# Crear un espacio lineal (arreglo de valores entre `a` y `b` equidistances).\n",
    "x = np.linspace(-10,10,11)\n",
    "\n",
    "print(x)"
   ]
  },
  {
   "cell_type": "code",
   "execution_count": 55,
   "metadata": {},
   "outputs": [
    {
     "data": {
      "image/png": "[encoded data removed]",
      "text/plain": [
       "<Figure size 432x288 with 1 Axes>"
      ]
     },
     "metadata": {},
     "output_type": "display_data"
    }
   ],
   "source": [
    "x = np.linspace(-np.pi, np.pi, 21)\n",
    "y = np.sin(x)\n",
    "\n",
    "plt.plot(x, y)\n",
    "plt.show()"
   ]
  },
  {
   "cell_type": "code",
   "execution_count": 58,
   "metadata": {},
   "outputs": [
    {
     "data": {
      "image/png": "[encoded data removed]",
      "text/plain": [
       "<Figure size 432x288 with 1 Axes>"
      ]
     },
     "metadata": {},
     "output_type": "display_data"
    }
   ],
   "source": [
    "# Generar la función seno perturbada aleatoriamente\n",
    "x = np.linspace(-np.pi, np.pi, 100)\n",
    "y1 = np.sin(x)\n",
    "y2 = y1 + (2 * np.random.random(100) - np.ones(100)) * 0.2\n",
    "\n",
    "plt.plot(x,y1, color = \"red\")\n",
    "plt.plot(x, y2, \".\", color = \"magenta\")\n",
    "\n",
    "plt.show()"
   ]
  },
  {
   "cell_type": "markdown",
   "metadata": {},
   "source": [
    "### Gráfica de pastel\n",
    "\n",
    "Una gráfica muy utiizada en los reportes es la gráfica de pastel o pie, la cual representa un círculo dividido en categorías donde cada categoría equivale a un porcentaje del pastel dependiendodel número de elementos (su peso) respecto al total de elementos."
   ]
  },
  {
   "cell_type": "code",
   "execution_count": 65,
   "metadata": {},
   "outputs": [
    {
     "data": {
      "image/png": "[encoded data removed]",
      "text/plain": [
       "<Figure size 432x288 with 1 Axes>"
      ]
     },
     "metadata": {},
     "output_type": "display_data"
    }
   ],
   "source": [
    "categorias = [\"manzanas\", \"peras\", \"mangos\"]\n",
    "pesos = [15, 28, 6]\n",
    "\n",
    "plt.pie(pesos, labels = categorias)\n",
    "plt.axis(\"equal\")\n",
    "\n",
    "plt.show()"
   ]
  },
  {
   "cell_type": "code",
   "execution_count": 69,
   "metadata": {},
   "outputs": [
    {
     "data": {
      "image/png": "[encoded data removed]",
      "text/plain": [
       "<Figure size 432x288 with 1 Axes>"
      ]
     },
     "metadata": {},
     "output_type": "display_data"
    }
   ],
   "source": [
    "categorias = [\"manzanas\", \"peras\", \"mangos\"]\n",
    "pesos = [15, 28, 6]\n",
    "colores = [\"red\", \"yellowgreen\", \"gold\"]\n",
    "\n",
    "plt.pie(pesos, labels = categorias, colors=colores)\n",
    "plt.axis(\"equal\")\n",
    "\n",
    "plt.show()"
   ]
  },
  {
   "cell_type": "code",
   "execution_count": 75,
   "metadata": {},
   "outputs": [
    {
     "data": {
      "image/png": "[encoded data removed]",
      "text/plain": [
       "<Figure size 432x288 with 1 Axes>"
      ]
     },
     "metadata": {},
     "output_type": "display_data"
    }
   ],
   "source": [
    "categorias = [\"manzanas\", \"peras\", \"mangos\"]\n",
    "pesos = [15, 28, 6]\n",
    "colores = [\"red\", \"yellowgreen\", \"gold\"]\n",
    "\n",
    "# Formato: %f - float, %.nf float con n cifras, %% - signo %\n",
    "plt.pie(pesos, labels = categorias, colors=colores, autopct=\"%.1f%%\")\n",
    "plt.axis(\"equal\")\n",
    "\n",
    "plt.show()"
   ]
  },
  {
   "cell_type": "markdown",
   "metadata": {},
   "source": [
    "### Gráficas de barras\n",
    "\n",
    "Las gráficas de barras permiten mostrar información de un eje contra su altura o peso.\n",
    "Por ejemplo, son útiles para mostrar las diferencias entre una misma categoría vs. una sub-categoría, como las edades entre hombres, diferencias de ph en un experimento, etc.\n",
    "\n",
    "Para definir las barras a mostrar, se requiere especificar las alturas y posiciones de las barras en dos arreglos por separado. Adicionalmente, se puede especificar como tercer parámetro el ancho de la barra. "
   ]
  },
  {
   "cell_type": "code",
   "execution_count": 81,
   "metadata": {},
   "outputs": [
    {
     "data": {
      "image/png": "[encoded data removed]",
      "text/plain": [
       "<Figure size 432x288 with 1 Axes>"
      ]
     },
     "metadata": {},
     "output_type": "display_data"
    }
   ],
   "source": [
    "alturas = [10, 20, 5, 7, 23]\n",
    "posiciones = [1, 2, 3, 4, 5]\n",
    "\n",
    "plt.bar(posiciones, height=alturas, width=0.6)\n",
    "plt.show()"
   ]
  },
  {
   "cell_type": "code",
   "execution_count": 85,
   "metadata": {},
   "outputs": [
    {
     "data": {
      "image/png": "[encoded data removed]",
      "text/plain": [
       "<Figure size 432x288 with 1 Axes>"
      ]
     },
     "metadata": {},
     "output_type": "display_data"
    }
   ],
   "source": [
    "edad_hombre = [35, 23, 17, 55, 89]\n",
    "edad_mujer = [30, 27, 16, 55, 87]\n",
    "\n",
    "d = 0.2\n",
    "posiciones_hombres = [1 - d, 2 - d, 3 -d, 4 - d, 5 - d] \n",
    "posiciones_mujeres = np.arange(1, 6) + d \n",
    "\n",
    "plt.bar(posiciones_hombres, edad_hombre, 2*d ,color = \"cornflowerblue\")\n",
    "plt.bar(posiciones_mujeres, edad_mujer, 2*d,color = \"hotpink\")\n",
    "plt.show()\n"
   ]
  },
  {
   "cell_type": "markdown",
   "metadata": {},
   "source": [
    "## Pandas\n",
    "\n",
    "`Pandas` es una librería de Python que permite manipular datos mediante dos estructuras de datos muy potentes (Series y DataFrames). `Pandas` es ampliamente utilizada en las áreas de Análisis de Datos, Ciencia de Datos, Estadística y otras ramas. Tiene buena integración con las librarías de `matplotlib` y `numpy`. Soporta diversos formatos de entrada como `CSV`, `Excel` y `SQL`. "
   ]
  },
  {
   "cell_type": "markdown",
   "metadata": {},
   "source": [
    "Las dos estructuras principales de `pandas` son las `Series` que equivalen a vectores o arreglos uni-dimensionales de `numpy` y también se tienen los `DataFrames` que equivalen a tablas (SQL, CSV) o arreglos bi-dimensionales de `numpy`."
   ]
  },
  {
   "cell_type": "code",
   "execution_count": 86,
   "metadata": {},
   "outputs": [
    {
     "name": "stdout",
     "output_type": "stream",
     "text": [
      "0    1\n",
      "1    2\n",
      "2    3\n",
      "3    4\n",
      "dtype: int64\n"
     ]
    }
   ],
   "source": [
    "import pandas as pd\n",
    "\n",
    "#Crear serie a partir de una lista de python\n",
    "s1 = pd.Series([1, 2, 3, 4])\n",
    "\n",
    "print(s1)"
   ]
  },
  {
   "cell_type": "code",
   "execution_count": 88,
   "metadata": {},
   "outputs": [
    {
     "name": "stdout",
     "output_type": "stream",
     "text": [
      "0    2\n",
      "1    2\n",
      "2    1\n",
      "3    1\n",
      "4    3\n",
      "5    3\n",
      "6    3\n",
      "7    2\n",
      "8    2\n",
      "9    1\n",
      "dtype: int64\n"
     ]
    }
   ],
   "source": [
    "# Crear una serie a partir de un arreglo de numpy\n",
    "s2 = pd.Series(np.random.randint(1 ,4, 10))\n",
    "print(s2)"
   ]
  },
  {
   "cell_type": "code",
   "execution_count": 89,
   "metadata": {},
   "outputs": [
    {
     "name": "stdout",
     "output_type": "stream",
     "text": [
      "nombre      Ana\n",
      "edad         23\n",
      "genero    mujer\n",
      "dtype: object\n"
     ]
    }
   ],
   "source": [
    "# Crear una serie con índices manuales\n",
    "\n",
    "s4 = pd.Series([\"Ana\", 23, \"mujer\"], index = [\"nombre\", \"edad\", \"genero\"])\n",
    "print(s4)"
   ]
  },
  {
   "cell_type": "markdown",
   "metadata": {},
   "source": [
    "### Operaciones entre series\n",
    "\n",
    "Se pueden manipular las series como arreglos de `numpy`"
   ]
  },
  {
   "cell_type": "code",
   "execution_count": 90,
   "metadata": {},
   "outputs": [
    {
     "name": "stdout",
     "output_type": "stream",
     "text": [
      "0     4\n",
      "1     8\n",
      "2    12\n",
      "3    16\n",
      "4    20\n",
      "dtype: int64\n",
      "0    False\n",
      "1    False\n",
      "2    False\n",
      "3     True\n",
      "4     True\n",
      "dtype: bool\n"
     ]
    }
   ],
   "source": [
    "s1 = pd.Series([1, 2, 3, 4, 5])\n",
    "s2 = pd.Series([2, 4, 6, 8, 10])\n",
    "\n",
    "s3 = s2 + s2\n",
    "s4 = s1 > 3\n",
    "\n",
    "print(s3)\n",
    "print(s4)"
   ]
  },
  {
   "cell_type": "code",
   "execution_count": 92,
   "metadata": {},
   "outputs": [
    {
     "name": "stdout",
     "output_type": "stream",
     "text": [
      "a    2.0\n",
      "b    NaN\n",
      "c    7.0\n",
      "d    NaN\n",
      "dtype: float64\n"
     ]
    }
   ],
   "source": [
    "s1 = pd.Series([1,3,5,6], index = [\"a\", \"b\", \"c\", \"d\"])\n",
    "s2 = pd.Series([1, 2], index = [\"a\", \"c\"])\n",
    "\n",
    "s3 = s1 + s2\n",
    "\n",
    "print(s3)"
   ]
  },
  {
   "cell_type": "markdown",
   "metadata": {},
   "source": [
    "### Recodificación de datos\n",
    "\n"
   ]
  },
  {
   "cell_type": "code",
   "execution_count": 94,
   "metadata": {},
   "outputs": [
    {
     "name": "stdout",
     "output_type": "stream",
     "text": [
      "0    1\n",
      "1    2\n",
      "2    2\n",
      "3    1\n",
      "4    1\n",
      "dtype: int64\n"
     ]
    }
   ],
   "source": [
    "s1 = pd.Series([\"M\", \"H\", \"H\", \"M\", \"M\"])\n",
    "s2 = s1.map(lambda g: 1 if g == \"M\" else 2)\n",
    "\n",
    "print(s2)"
   ]
  },
  {
   "cell_type": "code",
   "execution_count": 96,
   "metadata": {},
   "outputs": [
    {
     "name": "stdout",
     "output_type": "stream",
     "text": [
      "0    1\n",
      "1    2\n",
      "2    2\n",
      "3    1\n",
      "4    1\n",
      "dtype: int64\n"
     ]
    }
   ],
   "source": [
    "s1 = pd.Series([\"M\", \"H\", \"H\", \"M\", \"M\"])\n",
    "s2 = s1.map({\n",
    "    \"M\":1,\n",
    "    \"H\":2\n",
    "})\n",
    "\n",
    "print(s2)"
   ]
  },
  {
   "cell_type": "markdown",
   "metadata": {},
   "source": [
    "## DataFrames\n",
    "\n",
    "Los `DataFrames` o tablas nos permiten retener la información en forma de columnas, cada columna equivale a una `Serie`. Son útiles para manejar gran cantidad de datos, reducir datos, extender datos y adquirir/almacenar conjuntos grandes de datos bajo formato `csv` y `sql`."
   ]
  },
  {
   "cell_type": "code",
   "execution_count": 97,
   "metadata": {},
   "outputs": [
    {
     "name": "stdout",
     "output_type": "stream",
     "text": [
      "   A  B  C\n",
      "0  1  5  X\n",
      "1  2  4  X\n",
      "2  3  2  Y\n"
     ]
    }
   ],
   "source": [
    "# Crear un dataFrame a partir de un diccionario de listas\n",
    "\n",
    "d = {\n",
    "    \"A\": [1, 2, 3],\n",
    "    \"B\": [5, 4, 2],\n",
    "    \"C\": [\"X\", \"X\", \"Y\"]\n",
    "}\n",
    "\n",
    "df = pd.DataFrame(d)\n",
    "print(df)"
   ]
  },
  {
   "cell_type": "code",
   "execution_count": 98,
   "metadata": {},
   "outputs": [
    {
     "name": "stdout",
     "output_type": "stream",
     "text": [
      "   edades generos nombres\n",
      "0      23       M     Ana\n",
      "1      27       H    Beto\n",
      "2      24       H    Luis\n"
     ]
    }
   ],
   "source": [
    "# Crear un dataFrame a partir de `series`.\n",
    "\n",
    "s1 = pd.Series([\"Ana\", \"Beto\", \"Luis\"])\n",
    "s2 = pd.Series([23, 27, 24])\n",
    "s3 = pd.Series([\"M\", \"H\", \"H\"])\n",
    "\n",
    "df = pd.DataFrame(dict(nombres = s1, edades = s2, generos = s3))\n",
    "\n",
    "print(df)"
   ]
  },
  {
   "cell_type": "code",
   "execution_count": 100,
   "metadata": {},
   "outputs": [
    {
     "name": "stdout",
     "output_type": "stream",
     "text": [
      "   edad genero nombre\n",
      "0    23      M    Ana\n",
      "1    27     NA   Beto\n",
      "2    24      H   Luis\n"
     ]
    }
   ],
   "source": [
    "# Crear un dataFrame a partir de una lista de diccionarios\n",
    "personas = [\n",
    "    {\n",
    "        \"nombre\": \"Ana\",\n",
    "        \"edad\": 23,\n",
    "        \"genero\": \"M\"\n",
    "    },\n",
    "    {\n",
    "        \"nombre\":\"Beto\",\n",
    "        \"edad\": 27,\n",
    "        \"genero\": \"NA\"\n",
    "    },\n",
    "    {\n",
    "        \"nombre\":\"Luis\",\n",
    "        \"edad\": 24,\n",
    "        \"genero\": \"H\"\n",
    "    }\n",
    "]\n",
    "\n",
    "df = pd.DataFrame(personas)\n",
    "print(df)\n",
    "\n"
   ]
  },
  {
   "cell_type": "markdown",
   "metadata": {},
   "source": [
    "### Carga de datos desde un CSV\n",
    "El formato `CSV` es ampliamente utilizado como formato de tablas, donde cada fila representa una línea en el archivo con los valores separados por comas, por ejemplo:\n",
    "    \n",
    "[datos](badillosoft.com) \n",
    "    \n",
    "  \n",
    "\n",
    "| Nombre   | Edad     |  Genero   |\n",
    "|----------|----------|-----------|\n",
    "| Ana      | 23       | M | \n",
    "| Beto     | 27       |H|\n",
    "| Luis     | 24       |H|\n"
   ]
  },
  {
   "cell_type": "code",
   "execution_count": 103,
   "metadata": {},
   "outputs": [
    {
     "name": "stdout",
     "output_type": "stream",
     "text": [
      "   sepal length  sepal width  petal length  petal width        class\n",
      "0           5.1          3.5           1.4          0.2  Iris-setosa\n",
      "1           4.9          3.0           1.4          0.2  Iris-setosa\n",
      "2           4.7          3.2           1.3          0.2  Iris-setosa\n",
      "3           4.6          3.1           1.5          0.2  Iris-setosa\n",
      "4           5.0          3.6           1.4          0.2  Iris-setosa\n"
     ]
    }
   ],
   "source": [
    "df = pd.read_csv(\"http://badillosoft.com/iris.csv\")\n",
    "print(df.head())"
   ]
  },
  {
   "cell_type": "code",
   "execution_count": null,
   "metadata": {},
   "outputs": [],
   "source": []
  },
  {
   "cell_type": "code",
   "execution_count": null,
   "metadata": {},
   "outputs": [],
   "source": []
  },
  {
   "cell_type": "code",
   "execution_count": null,
   "metadata": {},
   "outputs": [],
   "source": []
  },
  {
   "cell_type": "code",
   "execution_count": null,
   "metadata": {},
   "outputs": [],
   "source": []
  },
  {
   "cell_type": "code",
   "execution_count": null,
   "metadata": {},
   "outputs": [],
   "source": []
  },
  {
   "cell_type": "code",
   "execution_count": null,
   "metadata": {},
   "outputs": [],
   "source": []
  }
 ],
 "metadata": {
  "kernelspec": {
   "display_name": "Python 3",
   "language": "python",
   "name": "python3"
  },
  "language_info": {
   "codemirror_mode": {
    "name": "ipython",
    "version": 3
   },
   "file_extension": ".py",
   "mimetype": "text/x-python",
   "name": "python",
   "nbconvert_exporter": "python",
   "pygments_lexer": "ipython3",
   "version": "3.6.1"
  }
 },
 "nbformat": 4,
 "nbformat_minor": 2
}
