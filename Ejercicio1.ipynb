{
 "cells": [
  {
   "cell_type": "code",
   "execution_count": 7,
   "metadata": {},
   "outputs": [],
   "source": [
    "import os\n",
    "import zipfile\n",
    "from zipfile import ZipFile"
   ]
  },
  {
   "cell_type": "code",
   "execution_count": 2,
   "metadata": {},
   "outputs": [
    {
     "name": "stdout",
     "output_type": "stream",
     "text": [
      "¿Cuál es la ruta a comprimir los archivos?C:\\Users\\mb82891\\Documents\\Personal\n"
     ]
    }
   ],
   "source": [
    "input_ruta = input(\"¿Cuál es la ruta a comprimir los archivos?\")"
   ]
  },
  {
   "cell_type": "code",
   "execution_count": 3,
   "metadata": {},
   "outputs": [
    {
     "name": "stdout",
     "output_type": "stream",
     "text": [
      "C:\\Users\\mb82891\\Documents\\Personal\n"
     ]
    }
   ],
   "source": [
    "#ruta.replace(\"/\", \"\\\\\")\n",
    "ruta = input_ruta\n",
    "print(ruta)"
   ]
  },
  {
   "cell_type": "code",
   "execution_count": 4,
   "metadata": {},
   "outputs": [
    {
     "name": "stdout",
     "output_type": "stream",
     "text": [
      "['C:\\\\Users\\\\mb82891\\\\Documents\\\\Personal\\\\Terapia 10\\\\finiquito.pdf', 'C:\\\\Users\\\\mb82891\\\\Documents\\\\Personal\\\\Terapia 10\\\\informe_medico_04112018.pdf', 'C:\\\\Users\\\\mb82891\\\\Documents\\\\Personal\\\\Terapia 10\\\\VAMG6304231H1_3808_LACR900225E25.pdf', 'C:\\\\Users\\\\mb82891\\\\Documents\\\\Personal\\\\Terapia 10\\\\VAMG6304231H1_3808_LACR900225E25.xml', 'C:\\\\Users\\\\mb82891\\\\Documents\\\\Personal\\\\Terapia 11\\\\receta.pdf', 'C:\\\\Users\\\\mb82891\\\\Documents\\\\Personal\\\\Terapia 11\\\\T0c88e364-7b1e-4725-95ca-322573392b59.pdf', 'C:\\\\Users\\\\mb82891\\\\Documents\\\\Personal\\\\Terapia 11\\\\T0c88e364-7b1e-4725-95ca-322573392b59.xml', 'C:\\\\Users\\\\mb82891\\\\Documents\\\\Personal\\\\Terapia 11\\\\VAMG6304231H1_3820_LACR900225E25.pdf', 'C:\\\\Users\\\\mb82891\\\\Documents\\\\Personal\\\\Terapia 11\\\\VAMG6304231H1_3820_LACR900225E25.xml', 'C:\\\\Users\\\\mb82891\\\\Documents\\\\Personal\\\\Terapia 12\\\\finiquito_reembolso.pdf', 'C:\\\\Users\\\\mb82891\\\\Documents\\\\Personal\\\\Terapia 12\\\\informe_medico.pdf', 'C:\\\\Users\\\\mb82891\\\\Documents\\\\Personal\\\\Terapia 12\\\\Tf0e1fa7c-c27a-4f44-a57f-7ba7f5c02ebb.pdf', 'C:\\\\Users\\\\mb82891\\\\Documents\\\\Personal\\\\Terapia 12\\\\Tf0e1fa7c-c27a-4f44-a57f-7ba7f5c02ebb.xml', 'C:\\\\Users\\\\mb82891\\\\Documents\\\\Personal\\\\Terapia 12\\\\VAMG6304231H1_3831_LACR900225E25.pdf', 'C:\\\\Users\\\\mb82891\\\\Documents\\\\Personal\\\\Terapia 12\\\\VAMG6304231H1_3831_LACR900225E25.xml', 'C:\\\\Users\\\\mb82891\\\\Documents\\\\Personal\\\\Terapia 13\\\\finiquito_reembolso.pdf', 'C:\\\\Users\\\\mb82891\\\\Documents\\\\Personal\\\\Terapia 13\\\\VAMG6304231H1_3868_LACR900225E25.pdf', 'C:\\\\Users\\\\mb82891\\\\Documents\\\\Personal\\\\Terapia 13\\\\VAMG6304231H1_3868_LACR900225E25.xml', 'C:\\\\Users\\\\mb82891\\\\Documents\\\\Personal\\\\Terapia 7\\\\VAMG6304231H1_3753_LACR900225E25.pdf', 'C:\\\\Users\\\\mb82891\\\\Documents\\\\Personal\\\\Terapia 7\\\\VAMG6304231H1_3753_LACR900225E25.xml', 'C:\\\\Users\\\\mb82891\\\\Documents\\\\Personal\\\\Terapia 8\\\\finiquito.pdf', 'C:\\\\Users\\\\mb82891\\\\Documents\\\\Personal\\\\Terapia 8\\\\orden medica.pdf', 'C:\\\\Users\\\\mb82891\\\\Documents\\\\Personal\\\\Terapia 8\\\\VAMG6304231H1_3779_LACR900225E25.pdf', 'C:\\\\Users\\\\mb82891\\\\Documents\\\\Personal\\\\Terapia 8\\\\VAMG6304231H1_3779_LACR900225E25.xml', 'C:\\\\Users\\\\mb82891\\\\Documents\\\\Personal\\\\Terapia 9\\\\VAMG6304231H1_3790_LACR900225E25.pdf', 'C:\\\\Users\\\\mb82891\\\\Documents\\\\Personal\\\\Terapia 9\\\\VAMG6304231H1_3790_LACR900225E25.xml', 'C:\\\\Users\\\\mb82891\\\\Documents\\\\Personal\\\\CV_RafaelLarrazolo.docx', 'C:\\\\Users\\\\mb82891\\\\Documents\\\\Personal\\\\CV_RafaelLarrazolo.pdf', 'C:\\\\Users\\\\mb82891\\\\Documents\\\\Personal\\\\Nuevo documento de texto.txt', 'C:\\\\Users\\\\mb82891\\\\Documents\\\\Personal\\\\quotes_spider.py']\n"
     ]
    }
   ],
   "source": [
    "direcciones = []\n",
    "for root, dirs, files in os.walk(ruta, topdown=False):\n",
    "    for name in files:\n",
    "        #print(os.path.join(root, name))\n",
    "        direcciones.append(os.path.join(root, name))\n",
    "        \n",
    "print(direcciones)\n"
   ]
  },
  {
   "cell_type": "code",
   "execution_count": 5,
   "metadata": {},
   "outputs": [
    {
     "name": "stdout",
     "output_type": "stream",
     "text": [
      "Número total de archivos a comprimir: 30\n"
     ]
    }
   ],
   "source": [
    "print(\"Número total de archivos a comprimir: {}\".format(len(direcciones)))"
   ]
  },
  {
   "cell_type": "code",
   "execution_count": 9,
   "metadata": {},
   "outputs": [],
   "source": [
    "with ZipFile('test.zip', 'w') as myzip:\n",
    "    for d in direcciones:\n",
    "        myzip.write(d)"
   ]
  },
  {
   "cell_type": "code",
   "execution_count": null,
   "metadata": {},
   "outputs": [],
   "source": []
  }
 ],
 "metadata": {
  "kernelspec": {
   "display_name": "Python [conda env:Py36]",
   "language": "python",
   "name": "conda-env-Py36-py"
  },
  "language_info": {
   "codemirror_mode": {
    "name": "ipython",
    "version": 3
   },
   "file_extension": ".py",
   "mimetype": "text/x-python",
   "name": "python",
   "nbconvert_exporter": "python",
   "pygments_lexer": "ipython3",
   "version": "3.6.5"
  }
 },
 "nbformat": 4,
 "nbformat_minor": 2
}
